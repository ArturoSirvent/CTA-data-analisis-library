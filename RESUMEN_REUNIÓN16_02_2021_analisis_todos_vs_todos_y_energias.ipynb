{
  "nbformat": 4,
  "nbformat_minor": 0,
  "metadata": {
    "colab": {
      "name": "analisis_todos_vs_todos_y_energias.ipynb",
      "provenance": [],
      "collapsed_sections": [],
      "authorship_tag": "ABX9TyMg2etzfo29jcKx6F8Ekk5p",
      "include_colab_link": true
    },
    "kernelspec": {
      "name": "python3",
      "display_name": "Python 3"
    }
  },
  "cells": [
    {
      "cell_type": "markdown",
      "metadata": {
        "id": "view-in-github",
        "colab_type": "text"
      },
      "source": [
        "<a href=\"https://colab.research.google.com/github/ArturoSirvent/CTA-data-analisis-library/blob/main/RESUMEN_REUNI%C3%93N16_02_2021_analisis_todos_vs_todos_y_energias.ipynb\" target=\"_parent\"><img src=\"https://colab.research.google.com/assets/colab-badge.svg\" alt=\"Open In Colab\"/></a>"
      ]
    },
    {
      "cell_type": "markdown",
      "metadata": {
        "id": "W_uukUB_TgB7"
      },
      "source": [
        "# Las partes a investigar para el TFG (reunión 16.02.2021)\n",
        "\n",
        "* Aplicar un todos contra todos, para realizar detecciones más precisas de la composición química.\n",
        "\n",
        "* Mejorar la red mediante Transfer Learning (red de deteccion de señales de trafico por ejemplo, nos interesan los filtros de deteccion de formas etc...). También hacer algún proceso de hyperparamater fitting.\n",
        "\n",
        "* Para cumplir con el último punto de mejorar la clasificación, podemos (en lugar de trasferlearning ó en adición). Tomamos varios telescopios, los cuatro primeros o 4 de una configuración principal (hay 11 pero solo 4 se supone que son los principales, hay algunos que hasta se superponen).\n",
        "\n",
        "  * También hay muchos pequeños (sus posiciones estan en los archivos txt), estos pueden ser usados para la clasificación.\n",
        "\n",
        "* Después de mejorar la clasificación de los elementos, pasamos a investigar la energia de los eventos. Un problema abierto es la estimación de la energia de los eventos cuando la cascada es muy ancha. Esto es especialmente dificil porque la cascada es ancha y se necesitan un gran número de telescopios para registrar el mayor numero de \"partes del evento\" posibles. Una duda que existe, es el ¿qué número minimo de telescopios es necesario para determinar correctamente la energía de un evento? Para gammas y electrones es sencillo y con un telescopio grande es suficiente, pues si tomamos el numero de pixeles incidentes y la intensidad y se hace una suma entre todos, la energía del evento será proporcional a eso, con alguna constante de proporcionalidad. Pero para el caso de los protones, neutrones etc, la cosa no es tan sencilla, pues la detección de los eventos se nos sale de los detectores, de modo aqui no hay constante que valga.\n",
        "\n",
        "Tengo motivos para pensar que esto último es factible mediante una red neuronal, pues si tenemos unos pocos telescopios (de los cuales tenemos sus posiciones, lo cual puede ser importante para la reconstrucción del evento). **\n",
        "\n",
        "NO olvides que quizá no solo haga falta Deep Learning, quizá algún procedimiento de Machine Learning o de Visual Recognition (**tengo que listar los distintos metodos que pueden aplicarse aqui**), o procesdo visual, o algun tipo de preprocesado de los datos para que se tenga en cuenta las posiciones espaciales de los datos, quiza esto también ayude a mejorar la eficacia de la red para clasificar y para detectar su energía.\n",
        "\n",
        "**(sigue) Si la red es capaz de clasificar correctamente los eventos, y de aprender de sus estructuras característica, quizá sea capaz de \"autocompletar\" la estructura de los eventos a la hora de hacer el cómputo de las energías. Es posible que la red puede visualizar una pequeña zona de la reacción y esto sea suficiente para indicarle que la reacción tiene tal energía, pues quizá muchas de las veces que la particula es un proton por ejemplo, esta tiene unas trazas aisladas características que tiene una intensidad relacionada con la energia del evento. Quizá esto es capaz de verlo la red.\n",
        "\n",
        "**Hay que buscar una forma para registrar las posiciones espaciales de los telescopios en la estimación de la energía. Esto puede ser un preprocesado que nada tenga que ver con el deep learning.**"
      ]
    },
    {
      "cell_type": "code",
      "metadata": {
        "id": "quXrIa6-Rc_Z"
      },
      "source": [
        ""
      ],
      "execution_count": null,
      "outputs": []
    }
  ]
}